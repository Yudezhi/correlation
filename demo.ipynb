{
 "metadata": {
  "language_info": {
   "codemirror_mode": {
    "name": "ipython",
    "version": 3
   },
   "file_extension": ".py",
   "mimetype": "text/x-python",
   "name": "python",
   "nbconvert_exporter": "python",
   "pygments_lexer": "ipython3",
   "version": "3.7.4-final"
  },
  "orig_nbformat": 2,
  "kernelspec": {
   "name": "Python 3.7.4 64-bit ('mahc': conda)",
   "display_name": "Python 3.7.4 64-bit ('mahc': conda)",
   "metadata": {
    "interpreter": {
     "hash": "aeaf6661556de07abd6ff86084f6f2b0bf7cd98624ec87d8419b80b2f71ce4c7"
    }
   }
  }
 },
 "nbformat": 4,
 "nbformat_minor": 2,
 "cells": [
  {
   "cell_type": "code",
   "execution_count": 1,
   "metadata": {},
   "outputs": [],
   "source": [
    "import pandas as pd"
   ]
  },
  {
   "cell_type": "code",
   "execution_count": 2,
   "metadata": {},
   "outputs": [],
   "source": [
    "df1 = pd.DataFrame({'A':[5,91,3],'B':[90,15,66],'C':[93,27,3]})\n",
    "\n",
    "df2 = pd.DataFrame({'A':[7,93,5],'B':[88,13,64],'C':[93,27,3]})\n"
   ]
  },
  {
   "cell_type": "code",
   "execution_count": 3,
   "metadata": {},
   "outputs": [
    {
     "output_type": "stream",
     "name": "stdout",
     "text": [
      "    A   B   C\n0   5  90  93\n1  91  15  27\n2   3  66   3\n"
     ]
    }
   ],
   "source": [
    "print(df1)"
   ]
  },
  {
   "cell_type": "code",
   "execution_count": 3,
   "metadata": {},
   "outputs": [
    {
     "output_type": "stream",
     "name": "stdout",
     "text": [
      "          A         B         C\nA  1.000000 -0.943228 -0.240882\nB -0.943228  1.000000  0.549571\nC -0.240882  0.549571  1.000000\n"
     ]
    }
   ],
   "source": [
    "print(df1.corr()) # 默认皮尔森相关系数"
   ]
  },
  {
   "cell_type": "code",
   "execution_count": 4,
   "metadata": {},
   "outputs": [
    {
     "output_type": "stream",
     "name": "stdout",
     "text": [
      "     A    B    C\nA  1.0 -0.5  0.5\nB -0.5  1.0  0.5\nC  0.5  0.5  1.0\n"
     ]
    }
   ],
   "source": [
    "print(df1.corr('spearman'))"
   ]
  },
  {
   "cell_type": "code",
   "execution_count": 5,
   "metadata": {},
   "outputs": [
    {
     "output_type": "stream",
     "name": "stdout",
     "text": [
      "          A         B         C\nA  1.000000 -0.333333  0.333333\nB -0.333333  1.000000  0.333333\nC  0.333333  0.333333  1.000000\n"
     ]
    }
   ],
   "source": [
    "print(df1.corr('kendall'))"
   ]
  },
  {
   "cell_type": "code",
   "execution_count": 7,
   "metadata": {},
   "outputs": [
    {
     "output_type": "stream",
     "name": "stdout",
     "text": [
      "          A         B         C\nA  1.000000 -0.943228 -0.240882\nB -0.943228  1.000000  0.549571\nC -0.240882  0.549571  1.000000\n"
     ]
    }
   ],
   "source": [
    "print(df2.corr())"
   ]
  },
  {
   "cell_type": "code",
   "execution_count": null,
   "metadata": {},
   "outputs": [],
   "source": []
  }
 ]
}